{
  "nbformat": 4,
  "nbformat_minor": 0,
  "metadata": {
    "colab": {
      "provenance": []
    },
    "kernelspec": {
      "name": "python3",
      "display_name": "Python 3"
    },
    "language_info": {
      "name": "python"
    }
  },
  "cells": [
    {
      "cell_type": "code",
      "source": [
        "text = \"we are learning python string operations\"\n",
        "print(text)\n",
        "#indexing\n",
        "#how wef can get individual item/character  from the collecting/string through indexing.\n",
        "#slicing\n",
        "#sub_portion\n",
        "#string_index = text.index(\"string\")\n",
        "#text[smaller.index:greater.index]\n",
        "sub_string = text[3:5]\n",
        "print(sub_string)\n",
        "negative_sub_string = text[-17:-11]\n",
        "positive_sub_string = text[23:30]\n",
        "print(positive_sub_string)\n",
        "print(negative_sub_string)\n",
        "negative = text[-24:-18]\n",
        "print(negative)\n",
        "positive = text[16:23]\n",
        "print(positive)\n",
        "slicing = text[-24:-1]\n",
        "print(slicing)\n",
        "slicing2 = text[-17:-11:2]\n",
        "print(slicing2)"
      ],
      "metadata": {
        "colab": {
          "base_uri": "https://localhost:8080/"
        },
        "id": "2j6EkL5hqj0k",
        "outputId": "714e58ac-ebec-4439-ac7c-81cf4260f757"
      },
      "execution_count": null,
      "outputs": [
        {
          "output_type": "stream",
          "name": "stdout",
          "text": [
            "we are learning python string operations\n",
            "ar\n",
            "string \n",
            "string\n",
            "python\n",
            "python \n",
            "python string operation\n",
            "srn\n"
          ]
        }
      ]
    },
    {
      "cell_type": "code",
      "source": [],
      "metadata": {
        "id": "bz_HvSC6Zxy6"
      },
      "execution_count": null,
      "outputs": []
    }
  ]
}