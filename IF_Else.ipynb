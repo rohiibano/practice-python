{
  "nbformat": 4,
  "nbformat_minor": 0,
  "metadata": {
    "colab": {
      "provenance": []
    },
    "kernelspec": {
      "name": "python3",
      "display_name": "Python 3"
    },
    "language_info": {
      "name": "python"
    }
  },
  "cells": [
    {
      "cell_type": "code",
      "execution_count": 1,
      "metadata": {
        "colab": {
          "base_uri": "https://localhost:8080/"
        },
        "id": "05x1LQ0AAUwC",
        "outputId": "c2fc1ad2-1358-4ff6-9301-28f6647060e0"
      },
      "outputs": [
        {
          "output_type": "stream",
          "name": "stdout",
          "text": [
            "The condition does not match our requirements\n"
          ]
        }
      ],
      "source": [
        "#conditional statement\n",
        "#if\n",
        "#if else\n",
        "#if elif else\n",
        "#Indentation\n",
        "\n",
        "if 65 >98:\n",
        "  print(\"The condition is true\")\n",
        "  print(\"Condition Match the requirements\")\n",
        "else:\n",
        "  print(\"The condition does not match our requirements\")"
      ]
    },
    {
      "cell_type": "code",
      "source": [
        "#another conditional statement\n",
        "\n",
        "temperature =30\n",
        "if temperature >= 12:\n",
        "    print(\"It is a hot day\")\n",
        "elif temperature < 30:\n",
        "    print(\"it is a cold day\")\n",
        "else:\n",
        "    print(\"it is not normal temperature\")\n"
      ],
      "metadata": {
        "colab": {
          "base_uri": "https://localhost:8080/"
        },
        "id": "WhetNqteECAN",
        "outputId": "4951918c-eebc-43f8-c6cd-a6ece76064fa"
      },
      "execution_count": 2,
      "outputs": [
        {
          "output_type": "stream",
          "name": "stdout",
          "text": [
            "It is a hot day\n"
          ]
        }
      ]
    },
    {
      "cell_type": "code",
      "source": [
        "#taking inputs from the user\n",
        "num1 = int(input(\"enter the first number:\"))\n",
        "operator = input(\"Enter an operator(+,-,*,/)\")\n",
        "num2 = int(input(\"Enter the second number\"))\n",
        "\n",
        "#performing the operation based on the operator\n",
        "\n",
        "if operator =='+':\n",
        "    result = num1 +num2\n",
        "elif operator == '-':\n",
        "    result = num1 - num2\n",
        "elif operator == '*':\n",
        "    result = num1 * num2\n",
        "elif operator == '/':\n",
        "    if num2!=0:\n",
        "        result = num1 / num2\n",
        "    else:\n",
        "        result =\"Error!Division by zero.\"\n",
        "else:\n",
        "    result = \"invaid Operator!\"\n",
        "#displaying the result\n",
        "print(f\"the result is :{result}\")"
      ],
      "metadata": {
        "colab": {
          "base_uri": "https://localhost:8080/"
        },
        "id": "kKzeNdLdEIlb",
        "outputId": "12ea4071-efcc-4aa0-a9c9-0aa7874d8d72"
      },
      "execution_count": 4,
      "outputs": [
        {
          "output_type": "stream",
          "name": "stdout",
          "text": [
            "enter the first number:23\n",
            "Enter an operator(+,-,*,/)*\n",
            "Enter the second number45\n",
            "the result is :1035\n"
          ]
        }
      ]
    },
    {
      "cell_type": "code",
      "source": [
        "a = 23\n",
        "b = 23\n",
        "if a > b:\n",
        "    print(\"b is greater then a\")\n",
        "elif a == b:\n",
        "    print(\"a and b are equal\")"
      ],
      "metadata": {
        "colab": {
          "base_uri": "https://localhost:8080/"
        },
        "id": "RFFrgX8KEhlS",
        "outputId": "9abf3032-b699-4754-bbb2-425bfac3e065"
      },
      "execution_count": 5,
      "outputs": [
        {
          "output_type": "stream",
          "name": "stdout",
          "text": [
            "a and b are equal\n"
          ]
        }
      ]
    },
    {
      "cell_type": "code",
      "source": [
        "b = 25\n",
        "b = 5\n",
        "if b > a:\n",
        "    print(\"b is greater then a\")\n",
        "elif a ==b:\n",
        "    print(\" a is equal to b\")\n",
        "else:\n",
        "    print(\"a is greater then b\")"
      ],
      "metadata": {
        "colab": {
          "base_uri": "https://localhost:8080/"
        },
        "id": "mu2WblS5Gfle",
        "outputId": "cad72ac4-71a8-4353-e441-013420e8d04f"
      },
      "execution_count": 6,
      "outputs": [
        {
          "output_type": "stream",
          "name": "stdout",
          "text": [
            "a is greater then b\n"
          ]
        }
      ]
    },
    {
      "cell_type": "code",
      "source": [
        "a = 56\n",
        "b = 65\n",
        "if a<b:\n",
        "    print(\"a is greater then b\")\n",
        "else:\n",
        "    print(\"b is greater then a \")"
      ],
      "metadata": {
        "colab": {
          "base_uri": "https://localhost:8080/"
        },
        "id": "yjur8aaZGjz3",
        "outputId": "50fc0b2e-ed77-4005-f038-4625a441f5db"
      },
      "execution_count": 7,
      "outputs": [
        {
          "output_type": "stream",
          "name": "stdout",
          "text": [
            "a is greater then b\n"
          ]
        }
      ]
    },
    {
      "cell_type": "code",
      "source": [
        "#one line if statement\n",
        "A = 2\n",
        "b = 2\n",
        "print(\"A\") if A<b else print(\"b\") if a ==b else print(\"a is equal to b\")"
      ],
      "metadata": {
        "colab": {
          "base_uri": "https://localhost:8080/"
        },
        "id": "-nMtiGG4GtOe",
        "outputId": "3e5ff6ca-6440-4e9b-9d20-13beded14508"
      },
      "execution_count": 12,
      "outputs": [
        {
          "output_type": "stream",
          "name": "stdout",
          "text": [
            "a is equal to b\n"
          ]
        }
      ]
    },
    {
      "cell_type": "code",
      "source": [
        "#The and keyword is a logical operator, and is used to combine conditional statements:\n",
        "a = 200\n",
        "b = 33\n",
        "c = 500\n",
        "if a > b and c > a:\n",
        "  print(\"Both conditions are True\")"
      ],
      "metadata": {
        "colab": {
          "base_uri": "https://localhost:8080/"
        },
        "id": "5ODXcIzRHi5V",
        "outputId": "20a8adb0-b9c4-4ba3-9660-3fe67b9c0341"
      },
      "execution_count": 13,
      "outputs": [
        {
          "output_type": "stream",
          "name": "stdout",
          "text": [
            "Both conditions are True\n"
          ]
        }
      ]
    },
    {
      "cell_type": "code",
      "source": [
        "#The or keyword is a logical operator, and is used to combine conditional statements:\n",
        "a =200\n",
        "b = 33\n",
        "c = 500\n",
        "if a>b or a>c:\n",
        "  print(\"At least one of condition is true\")"
      ],
      "metadata": {
        "colab": {
          "base_uri": "https://localhost:8080/"
        },
        "id": "c5r-qEBcH9y8",
        "outputId": "fc73e08e-f483-462b-962a-d9cb2fcf54d0"
      },
      "execution_count": 15,
      "outputs": [
        {
          "output_type": "stream",
          "name": "stdout",
          "text": [
            "At least one of condition is true\n"
          ]
        }
      ]
    },
    {
      "cell_type": "code",
      "source": [
        "#The not keyword is a logical operator, and is used to reverse the result of the conditional statement:\n",
        "a = 33\n",
        "b = 200\n",
        "if not a > b:\n",
        "  print(\"a is not greater then b\")"
      ],
      "metadata": {
        "colab": {
          "base_uri": "https://localhost:8080/"
        },
        "id": "Dqz8kMqwIhu7",
        "outputId": "b16978f4-579f-4d0e-90c2-da1bdb64b49d"
      },
      "execution_count": 16,
      "outputs": [
        {
          "output_type": "stream",
          "name": "stdout",
          "text": [
            "a is not greater then b\n"
          ]
        }
      ]
    },
    {
      "cell_type": "code",
      "source": [
        "#You can have if statements inside if statements, this is called nested if statements.\n",
        "x = 41\n",
        "\n",
        "if x>10:\n",
        "  print(\"Above Ten\")\n",
        "  if x >20:\n",
        "    print(\"Above Twenty,\")\n",
        "  else:\n",
        "    print(\"but not above twenty,\")"
      ],
      "metadata": {
        "colab": {
          "base_uri": "https://localhost:8080/"
        },
        "id": "5hvDStGJI3HM",
        "outputId": "6b1725ba-ced0-4442-c54e-5b86272ab19a"
      },
      "execution_count": 17,
      "outputs": [
        {
          "output_type": "stream",
          "name": "stdout",
          "text": [
            "Above Ten\n",
            "Above Twenty,\n"
          ]
        }
      ]
    },
    {
      "cell_type": "code",
      "source": [
        "#if statements cannot be empty, but if you for some reason have an if statement with no content,\n",
        "#put in the pass statement to avoid getting an error.\n",
        "a = 33\n",
        "b = 200\n",
        "\n",
        "if b > a:\n",
        "  pass"
      ],
      "metadata": {
        "id": "oZ9icKm0Jdkq"
      },
      "execution_count": 19,
      "outputs": []
    },
    {
      "cell_type": "code",
      "source": [
        "if 5 > 2:\n",
        "    print(\"Five is greater then two\")"
      ],
      "metadata": {
        "colab": {
          "base_uri": "https://localhost:8080/"
        },
        "id": "tLYBFrgoJnA6",
        "outputId": "0d73d9a1-6e87-4a8b-d749-5d4170251817"
      },
      "execution_count": 20,
      "outputs": [
        {
          "output_type": "stream",
          "name": "stdout",
          "text": [
            "Five is greater then two\n"
          ]
        }
      ]
    }
  ]
}