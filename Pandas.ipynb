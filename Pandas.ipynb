{
 "cells": [
  {
   "cell_type": "code",
   "execution_count": 2,
   "metadata": {},
   "outputs": [],
   "source": [
    "import pandas as pd"
   ]
  },
  {
   "cell_type": "code",
   "execution_count": 3,
   "metadata": {},
   "outputs": [],
   "source": [
    "a = {'id': [1, 2, 3], 'name': ['John', 'San', 'Mary'], 'age': [35, 30, 31]}\n",
    "a_df = pd.DataFrame(a)\n",
    "\n",
    "# Write to a CSV file\n",
    "a_df.to_csv('school.csv', index=False)\n",
    "\n",
    "           \n"
   ]
  },
  {
   "cell_type": "code",
   "execution_count": 11,
   "metadata": {},
   "outputs": [
    {
     "name": "stdout",
     "output_type": "stream",
     "text": [
      "   id  name  age\n",
      "0   1  John   35\n",
      "1   2   San   30\n",
      "2   3  Mary   31\n"
     ]
    }
   ],
   "source": [
    "df = pd.read_csv(\"school.csv\")\n",
    "print(df)"
   ]
  },
  {
   "cell_type": "code",
   "execution_count": 18,
   "metadata": {},
   "outputs": [],
   "source": [
    "e = {'id': [1, 2, 3], 'name': ['John', 'San', 'Mary'], 'age': [35, 30, 31]}\n",
    "e_df = pd.DataFrame(e)\n",
    "\n",
    "# Write to a CSV file\n",
    "e_df.to_json('extensiblee.json', index=False)"
   ]
  },
  {
   "cell_type": "code",
   "execution_count": 5,
   "metadata": {},
   "outputs": [],
   "source": [
    "f = {'id': [1, 2, 3], 'name': ['John', 'San', 'Mary'], 'age': [35, 30, 31]}\n",
    "f_df = pd.DataFrame(f)\n",
    "\n",
    "# Write to a CSV file\n",
    "f_df.to_xml('extensiblee.xml', index=False , parser='etree')"
   ]
  },
  {
   "cell_type": "code",
   "execution_count": 10,
   "metadata": {},
   "outputs": [
    {
     "name": "stdout",
     "output_type": "stream",
     "text": [
      "   id  name  age\n",
      "0   1  John   35\n",
      "1   2   San   30\n",
      "2   3  Mary   31\n"
     ]
    }
   ],
   "source": [
    "df= pd.read_json('extensiblee.json')\n",
    "print(df)"
   ]
  }
 ],
 "metadata": {
  "kernelspec": {
   "display_name": "Python 3",
   "language": "python",
   "name": "python3"
  },
  "language_info": {
   "codemirror_mode": {
    "name": "ipython",
    "version": 3
   },
   "file_extension": ".py",
   "mimetype": "text/x-python",
   "name": "python",
   "nbconvert_exporter": "python",
   "pygments_lexer": "ipython3",
   "version": "3.12.6"
  }
 },
 "nbformat": 4,
 "nbformat_minor": 2
}
